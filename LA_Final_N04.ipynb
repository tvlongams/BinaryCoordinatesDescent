{
  "nbformat": 4,
  "nbformat_minor": 0,
  "metadata": {
    "kernelspec": {
      "display_name": "Python 3",
      "language": "python",
      "name": "python3"
    },
    "language_info": {
      "codemirror_mode": {
        "name": "ipython",
        "version": 3
      },
      "file_extension": ".py",
      "mimetype": "text/x-python",
      "name": "python",
      "nbconvert_exporter": "python",
      "pygments_lexer": "ipython3",
      "version": "3.7.4"
    },
    "colab": {
      "name": "LA-Final-N04.ipynb",
      "provenance": [],
      "include_colab_link": true
    }
  },
  "cells": [
    {
      "cell_type": "markdown",
      "metadata": {
        "id": "view-in-github",
        "colab_type": "text"
      },
      "source": [
        "<a href=\"https://colab.research.google.com/github/tvlongams/BinaryCoordinatesDescent/blob/master/LA_Final_N04.ipynb\" target=\"_parent\"><img src=\"https://colab.research.google.com/assets/colab-badge.svg\" alt=\"Open In Colab\"/></a>"
      ]
    },
    {
      "cell_type": "markdown",
      "metadata": {
        "id": "NKWYfjVnXAOv"
      },
      "source": [
        "# BÀI KIỂM TRA CUỐI KÌ\n",
        "* Môn: **Linear Algebra**\n",
        "* Thời gian: **60 phút**\n",
        "* Họ tên học viên:\n",
        "* Mã học viên:\n",
        "\n",
        "**Yêu cầu**: Sử dụng tính toán trên Python để hoàn thành các bài tập sau đây."
      ]
    },
    {
      "cell_type": "markdown",
      "metadata": {
        "id": "P0_UbKFhXAO-"
      },
      "source": [
        "### Bài 1\n",
        "Cho ma trận đối xứng: $$A=\\left( \\begin {array}{cccc} \n",
        "4&1&1&1\\\\ 1&4&1&1\\\\ 1&1&4&1\\\\ 1&1&1&4\n",
        "\\end {array} \\right).$$\n",
        "\n",
        "* (5) Trong các véc-tơ $u=\\begin{pmatrix} 0\\\\1 \\\\ 1\\\\1 \\end{pmatrix}, v=\\begin{pmatrix} 1\\\\1 \\\\ 1\\\\1 \\end{pmatrix}$, véc-tơ nào là véc-tơ riêng của $A$ và tìm giá trị riêng tương ứng của nó (nếu có).\n",
        "* (5) Tìm các giá trị riêng của ma trận $A$ và cơ sở của các không gian riêng tương ứng với giá trị riêng.\n",
        "* (10) Tìm ma trận trực giao $V$ và ma trận đường chéo $D$ sao cho $A=VDV^{T}$."
      ]
    },
    {
      "cell_type": "code",
      "metadata": {
        "id": "1SljDRH7XAPA"
      },
      "source": [
        ""
      ],
      "execution_count": null,
      "outputs": []
    },
    {
      "cell_type": "markdown",
      "metadata": {
        "id": "eATU1OjoXAPC"
      },
      "source": [
        "### Bài 2\n",
        "Cho:\n",
        "\n",
        "$$ A=\\begin{pmatrix} \n",
        "-3&6&-1\\\\\n",
        "1&-7&1\\\\\n",
        "-2&2&3\\\\\n",
        "-1&2&-4\n",
        "\\end{pmatrix}, \n",
        "b=\\begin{pmatrix} 2\\\\ 1\\\\ 2\\\\3 \\end{pmatrix}\n",
        "$$\n",
        "* (5) Tính ma trận nghịch đảo suy rộng $A^{\\dagger}$.\n",
        "* (5) Tìm nghiệm xấp xỉ tốt nhất $x^{*}$ của hệ $Ax=b$.\n",
        "* (5) Tính giá trị $\\min_x ||Ax-b||_2$."
      ]
    },
    {
      "cell_type": "code",
      "metadata": {
        "id": "uiwtpyL_XAPD"
      },
      "source": [
        ""
      ],
      "execution_count": null,
      "outputs": []
    },
    {
      "cell_type": "markdown",
      "metadata": {
        "id": "Lt6NYV-tXAPE"
      },
      "source": [
        "### Bài 3\n",
        "Cho ma trận:\n",
        "\n",
        "$$A=\\begin{pmatrix}\n",
        "1&-2&3\\\\\n",
        "-4&5&-6\\\\\n",
        "7&-8&9\\\\\n",
        "-10&11&-12\\\\\n",
        "13&-14&15\n",
        "\\end{pmatrix} $$\n",
        "\n",
        "* (5) Tìm khai triển kỳ dị SVD của ma trận $A=U\\Sigma V^T$.\n",
        "* (10) Chỉ rõ các cặp véc-tơ kỳ dị $(\\sigma,u,v)$ với $\\sigma>0$ và $Av=\\sigma u, A^Tu=\\sigma v$.\n",
        "* (5) \n",
        "Viết khai triển kỳ dị SVD (dạng rút gọn) của ma trận $A=U_r\\Sigma_r V_r^T$ với $r=rank(A)$.\n"
      ]
    },
    {
      "cell_type": "code",
      "metadata": {
        "id": "QIJ4NF2mXAPF"
      },
      "source": [
        ""
      ],
      "execution_count": null,
      "outputs": []
    },
    {
      "cell_type": "markdown",
      "metadata": {
        "id": "P6lE6q7DXAPG"
      },
      "source": [
        "### Bài 4 \n",
        "Sử dụng thư viện sklearn để tạo dữ liệu wine gồm $n=178$ quan sát, mỗi quan sát có $p=13$ thuộc tính\n",
        "###### from sklearn.datasets import load_wine\n",
        "###### wine = load_wine()\n",
        "###### X=wine.data\n",
        "\n",
        "* (5) Tính giá trị trung bình $\\bar{x}$ của dữ liệu wine.\n",
        "* (5) Tính ma trận hiệp phương sai $S$ của dữ liệu wine.\n",
        "* (5) Thực hiện phương pháp phân tích thành phần chính đối với dữ liệu wine.\n",
        "* (5) Biểu diễn dữ liệu trên không gian sinh bởi hai thành phần chính đầu tiên."
      ]
    },
    {
      "cell_type": "code",
      "metadata": {
        "id": "u2_19dZyXAPH"
      },
      "source": [
        ""
      ],
      "execution_count": null,
      "outputs": []
    },
    {
      "cell_type": "markdown",
      "metadata": {
        "id": "9HD-LwTwXAPJ"
      },
      "source": [
        "### Bài 5 \n",
        "\n",
        "Cho ma trận $$X=\\left[ \\begin {array}{cccc} 4&1&1&4\\\\ 1&4&2&5\\\\ 2&1&4&5\\\\ 1&4&1&5\\end {array}\n",
        " \\right], W=\\left[ \\begin {array}{cc} w_{11}&w_{12}\\\\ w_{21}&w_{22}\\\\ w_{31}&w_{32}\\\\ w_{41}&w_{42}\\end {array} \\right],H=\\left[ \\begin {array}{cccc} h_{11}&h_{12}&h_{13}&h_{14}\\\\ h_{21}&h_{22}&h_{23}&h_{24}\\end {array} \\right].$$\n",
        " \n",
        " * (5) Đặt $W$ là ma trận có các phần tử bằng $1$, tìm ma trận $H$ để $||X-WH||_F$ đạt giá trị nhỏ nhất.\n",
        " * (5) Với $H$ tìm được ở trên, tìm giá trị của $W$ để $||X-WH||_F$ đạt giá trị nhỏ nhất.\n",
        " * (5) Lặp lại quá trình trên với $n=10$ bước lặp để tìm $W,H$ để $||X-WH||_F$ đạt giá trị nhỏ nhất.\n"
      ]
    },
    {
      "cell_type": "code",
      "metadata": {
        "id": "iV8IiqZ-XAPK"
      },
      "source": [
        ""
      ],
      "execution_count": null,
      "outputs": []
    },
    {
      "cell_type": "markdown",
      "metadata": {
        "id": "-tJ-IkC8XAPL"
      },
      "source": [
        "### Bài 6\n",
        "Sử dụng thư viện sklearn để tạo dữ liệu iris gồm $n=150$ quan sát, mỗi quan sát có $p=4$ thuộc tính\n",
        "##### from sklearn.datasets import load_iris\n",
        "##### iris = load_iris()\n",
        "##### X=iris.data\n",
        "##### Y=iris.target\n",
        "##### x=np.array([X[:,1],Y]).T\n",
        "##### y=X[:,0]\n",
        "Trong đó ma trận $x$ gồm 2 biến $x_1$ (giá trị thực), $x_2$ (biến định tính).\n",
        "\n",
        "* (10) Tìm phương trình hồi quy tuyến tính có dạng $y=a+bx_1+cI_{[x_2=1]}+dI_{[x_2=2]}$\n",
        "\n",
        "(Hàm chỉ tiêu $I_{[x_2=a]}$ nhận giá trị $1$ nếu giá trị $x_2=a$ và nhận giá trị $0$ nếu giá trị $x_2\\ne a$)\n",
        "\n"
      ]
    },
    {
      "cell_type": "code",
      "metadata": {
        "id": "JfX4KRlRXAPM"
      },
      "source": [
        ""
      ],
      "execution_count": null,
      "outputs": []
    },
    {
      "cell_type": "markdown",
      "metadata": {
        "id": "sAUscCXRXAPN"
      },
      "source": [
        "\n",
        "\n"
      ]
    },
    {
      "cell_type": "code",
      "metadata": {
        "id": "I0NLkgTZXAPN"
      },
      "source": [
        ""
      ],
      "execution_count": null,
      "outputs": []
    }
  ]
}