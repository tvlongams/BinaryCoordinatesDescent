{
  "nbformat": 4,
  "nbformat_minor": 0,
  "metadata": {
    "kernelspec": {
      "display_name": "Python 3",
      "language": "python",
      "name": "python3"
    },
    "language_info": {
      "codemirror_mode": {
        "name": "ipython",
        "version": 3
      },
      "file_extension": ".py",
      "mimetype": "text/x-python",
      "name": "python",
      "nbconvert_exporter": "python",
      "pygments_lexer": "ipython3",
      "version": "3.7.4"
    },
    "colab": {
      "name": "LA-Final-N03.ipynb",
      "provenance": [],
      "include_colab_link": true
    }
  },
  "cells": [
    {
      "cell_type": "markdown",
      "metadata": {
        "id": "view-in-github",
        "colab_type": "text"
      },
      "source": [
        "<a href=\"https://colab.research.google.com/github/tvlongams/BinaryCoordinatesDescent/blob/master/LA_Final_N03.ipynb\" target=\"_parent\"><img src=\"https://colab.research.google.com/assets/colab-badge.svg\" alt=\"Open In Colab\"/></a>"
      ]
    },
    {
      "cell_type": "markdown",
      "metadata": {
        "id": "HP2GFCYVTCD_"
      },
      "source": [
        "# BÀI KIỂM TRA CUỐI KÌ\n",
        "* Môn: **Linear Algebra**\n",
        "* Thời gian: **60 phút**\n",
        "* Họ tên học viên: \n",
        "* Mã học viên: \n",
        "\n",
        "**Yêu cầu**: Sử dụng tính toán trên Python để hoàn thành các bài tập sau đây."
      ]
    },
    {
      "cell_type": "markdown",
      "metadata": {
        "id": "oQehmUGPTCEG"
      },
      "source": [
        "### Bài 1\n",
        "Cho ma trận:\n",
        "$$A=\\begin{pmatrix}\n",
        "9&3&0&-3\\\\\n",
        "5&8&-1&-4\\\\\n",
        "4&1&7&-5\\\\\n",
        "3&0&-3&6\n",
        "\\end{pmatrix}$$\n",
        "\n",
        "* (5) Trong các véc-tơ $u=\\begin{pmatrix} 1\\\\1 \\\\ 1\\\\1 \\end{pmatrix}, v=\\begin{pmatrix} 0\\\\1 \\\\ 1\\\\1 \\end{pmatrix}$, véc-tơ nào là véc-tơ riêng của $A$ và tìm giá trị riêng tương ứng của nó (nếu có).\n",
        "* (5) Tìm các giá trị riêng của ma trận $A$ và cơ sở của các không gian riêng tương ứng với giá trị riêng.\n",
        "* (10) Tìm ma trận không suy biến $P$ và ma trận đường chéo $D$ sao cho $A=PDP^{-1}$."
      ]
    },
    {
      "cell_type": "code",
      "metadata": {
        "id": "idcKV3USTCEI"
      },
      "source": [
        "cau1=20"
      ],
      "execution_count": 1,
      "outputs": []
    },
    {
      "cell_type": "markdown",
      "metadata": {
        "id": "Rm_hSSnpTCEJ"
      },
      "source": [
        "### Bài 2\n",
        "Cho:\n",
        "\n",
        "$$ A=\\begin{pmatrix} \n",
        "1&-2&3\\\\ \n",
        "-4&5&-6\\\\ \n",
        "7&-8& -9 \\\\ \n",
        "-10&11&12 \n",
        "\\end{pmatrix}, b=\\begin{pmatrix}10\\\\ -20\\\\ 4\\\\-10 \\end{pmatrix}\n",
        "$$\n",
        "* (5) Tính ma trận nghịch đảo suy rộng $A^{\\dagger}$.\n",
        "* (5) Tìm nghiệm $x^*$ xấp xỉ tốt nhất của hệ $Ax=b$.\n",
        "* (5) Tính giá trị $\\min_x ||Ax-b||_2$."
      ]
    },
    {
      "cell_type": "code",
      "metadata": {
        "id": "GF4vQrqFTCEL"
      },
      "source": [
        "cau2=15"
      ],
      "execution_count": 2,
      "outputs": []
    },
    {
      "cell_type": "markdown",
      "metadata": {
        "id": "AHX0NzH9TCEN"
      },
      "source": [
        "### Bài 3\n",
        "Cho ma trận:\n",
        "\n",
        "$$A=\\begin{pmatrix}\n",
        "-3&6&-1&1&-7\\\\\n",
        "1&-2&2&3&-1\\\\\n",
        "2&-4&5&8&-4\n",
        "\\end{pmatrix} $$\n",
        "\n",
        "* (5) Tìm khai triển kỳ dị SVD của ma trận $A=U\\Sigma V^T$.\n",
        "\n",
        "* (5+5) Chỉ rõ các cặp véc-tơ kỳ dị $(\\sigma,u,v)$ với $\\sigma>0$ và $Av=\\sigma u, A^Tu=\\sigma v$.\n",
        "\n",
        "* (5) Viết khai triển kỳ dị SVD (dạng rút gọn) của ma trận $A=U_r\\Sigma_r V_r^T$ với $r=rank(A)$."
      ]
    },
    {
      "cell_type": "code",
      "metadata": {
        "id": "qqISVpoETCEP"
      },
      "source": [
        "cau3=20"
      ],
      "execution_count": 9,
      "outputs": []
    },
    {
      "cell_type": "markdown",
      "metadata": {
        "id": "w6YLrTMATCEQ"
      },
      "source": [
        "### Bài 4 \n",
        "Sử dụng thư viện sklearn để tạo dữ liệu iris gồm $n=150$ quan sát, mỗi quan sát có $p=4$ thuộc tính\n",
        "###### from sklearn.datasets import load_iris\n",
        "###### iris = load_iris()\n",
        "###### X=iris.data\n",
        "\n",
        "* (5) Tính giá trị trung bình $\\bar{x}$ của dữ liệu iris.\n",
        "* (5) Tính ma trận hiệp phương sai $S$ của dữ liệu iris.\n",
        "* (5) Thực hiện phương pháp phân tích thành phần chính đối với dữ liệu iris.\n",
        "* (5) Biểu diễn dữ liệu trên không gian sinh bởi hai thành phần chính đầu tiên."
      ]
    },
    {
      "cell_type": "code",
      "metadata": {
        "id": "i9Fsi4krTCER"
      },
      "source": [
        "cau4=20"
      ],
      "execution_count": 4,
      "outputs": []
    },
    {
      "cell_type": "markdown",
      "metadata": {
        "id": "0iCXF5ufTCES"
      },
      "source": [
        "### Bài 5 \n",
        "\n",
        "Cho ma trận $$X=\\left[ \\begin {array}{cccc} 4&1&1&4\\\\ 1&4&2&0\\\\ 2&1&4&5\\\\ 1&4&1&0\\end {array}\n",
        " \\right], W=\\left[ \\begin {array}{cc} w_{11}&w_{12}\\\\ w_{21}&w_{22}\\\\ w_{31}&w_{32}\\\\ w_{41}&w_{42}\\end {array} \\right],H=\\left[ \\begin {array}{cccc} h_{11}&h_{12}&h_{13}&h_{14}\\\\ h_{21}&h_{22}&h_{23}&h_{24}\\end {array} \\right].$$\n",
        " \n",
        " * (5) Đặt $H$ là ma trận có các phần tử bằng $1$, tìm ma trận $W$ để $||X-WH||_F$ đạt giá trị nhỏ nhất.\n",
        " * (5) Với $W$ tìm được ở trên, tìm giá trị của $H$ để $||X-WH||_F$ đạt giá trị nhỏ nhất.\n",
        " * (5) Lặp lại quá trình trên với $n=10$ bước lặp để tìm $W,H$ để $||X-WH||_F$ đạt giá trị nhỏ nhất."
      ]
    },
    {
      "cell_type": "code",
      "metadata": {
        "id": "3CHa8PkETCES"
      },
      "source": [
        "cau5=15"
      ],
      "execution_count": 5,
      "outputs": []
    },
    {
      "cell_type": "markdown",
      "metadata": {
        "id": "-6cQSkNsTCET"
      },
      "source": [
        "### Bài 6\n",
        "Sử dụng thư viện sklearn để tạo dữ liệu iris gồm $n=150$ quan sát, mỗi quan sát có $p=4$ thuộc tính\n",
        "##### from sklearn.datasets import load_iris\n",
        "##### iris = load_iris()\n",
        "##### X=iris.data\n",
        "##### Y=iris.target\n",
        "##### x=np.array([X[:,0],Y]).T\n",
        "##### y=X[:,1]\n",
        "Trong đó ma trận $x$ gồm 2 biến $x_1$ (giá trị thực), $x_2$ (biến định tính).\n",
        "\n",
        "(10) Tìm phương trình hồi quy tuyến tính có dạng $y=a+bx_1+cI_{[x_2=0]}+dI_{[x_2=1]}$\n",
        "\n",
        "(Hàm chỉ tiêu $I_{[x_2=a]}$ nhận giá trị $1$ nếu giá trị $x_2=a$ và "
      ]
    },
    {
      "cell_type": "code",
      "metadata": {
        "id": "g4NSDqasTCET"
      },
      "source": [
        "cau6=10"
      ],
      "execution_count": 7,
      "outputs": []
    },
    {
      "cell_type": "code",
      "metadata": {
        "colab": {
          "base_uri": "https://localhost:8080/"
        },
        "id": "9WILU0rnTCEU",
        "outputId": "199bd5b7-eda7-48f4-f337-0f66a77ee505"
      },
      "source": [
        "cau1+cau2+cau3+cau4+cau5+cau6"
      ],
      "execution_count": 10,
      "outputs": [
        {
          "output_type": "execute_result",
          "data": {
            "text/plain": [
              "100"
            ]
          },
          "metadata": {
            "tags": []
          },
          "execution_count": 10
        }
      ]
    },
    {
      "cell_type": "code",
      "metadata": {
        "id": "_z9QUZLXVIGF"
      },
      "source": [
        ""
      ],
      "execution_count": null,
      "outputs": []
    }
  ]
}